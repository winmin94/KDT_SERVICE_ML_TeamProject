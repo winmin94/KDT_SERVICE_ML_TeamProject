{
 "cells": [
  {
   "cell_type": "code",
   "execution_count": 4,
   "metadata": {},
   "outputs": [],
   "source": [
    "import librosa\n",
    "import numpy as np\n",
    "import torch\n",
    "\n",
    "def extract_pitch(file_path):\n",
    "    y, sr = librosa.load(file_path, sr=None)  # librosa.load 함수에서 오디오 파일을 로드할 때 반환되는 값 \n",
    "                                              # y = 오디오신호, sr = 샘플링 레이트(Sample Rate) -> 1초동안 들어온 오디오 샘플(즉, 오디오 품질)\n",
    "    f0, voiced_flag, voiced_probs = librosa.pyin(y, fmin=librosa.note_to_hz('C2'), fmax=librosa.note_to_hz('C7'), sr=sr)\n",
    "    valid_f0 = f0[voiced_flag]  # 유효한 피치 데이터만 추출\n",
    "    min_pitch = np.min(valid_f0) if np.any(valid_f0) else None\n",
    "    max_pitch = np.max(valid_f0) if np.any(valid_f0) else None\n",
    "    return min_pitch, max_pitch  # 최저음과 최고음 반환"
   ]
  },
  {
   "cell_type": "code",
   "execution_count": 5,
   "metadata": {},
   "outputs": [],
   "source": [
    "# 샘플들(10개)의 파일 경로\n",
    "file_paths = [\"./data/Japanese/vocal/Japanese_1.wav\",\n",
    "              \"./data/Japanese/vocal/Japanese_2.wav\",\n",
    "              \"./data/Japanese/vocal/Japanese_3.wav\",\n",
    "              \"./data/Japanese/vocal/Japanese_4.wav\",\n",
    "              \"./data/Japanese/vocal/Japanese_5.wav\",\n",
    "              \"./data/Japanese/vocal/Japanese_6.wav\",\n",
    "              \"./data/Japanese/vocal/Japanese_7.wav\",\n",
    "              \"./data/Japanese/vocal/Japanese_8.wav\",\n",
    "              \"./data/Japanese/vocal/Japanese_9.wav\",\n",
    "              \"./data/Japanese/vocal/Japanese_10.wav\"]\n",
    "\n",
    "# 전체 노래 파일 경로 추가\n",
    "full_song_path = \"./data/Japanese/노래/Japanese8.wav\""
   ]
  },
  {
   "cell_type": "code",
   "execution_count": 6,
   "metadata": {},
   "outputs": [
    {
     "name": "stdout",
     "output_type": "stream",
     "text": [
      "File: ./data/Japanese/vocal/Japanese_1.wav - Minimum pitch: 65.40639132514966, Maximum pitch: 580.5834807400734\n",
      "File: ./data/Japanese/vocal/Japanese_2.wav - Minimum pitch: 65.40639132514966, Maximum pitch: 491.03874275729817\n",
      "File: ./data/Japanese/vocal/Japanese_3.wav - Minimum pitch: 65.40639132514966, Maximum pitch: 580.5834807400734\n",
      "File: ./data/Japanese/vocal/Japanese_4.wav - Minimum pitch: 65.40639132514966, Maximum pitch: 580.5834807400734\n",
      "File: ./data/Japanese/vocal/Japanese_5.wav - Minimum pitch: 65.40639132514966, Maximum pitch: 564.0553960451207\n",
      "File: ./data/Japanese/vocal/Japanese_6.wav - Minimum pitch: 65.40639132514966, Maximum pitch: 517.2410787647879\n",
      "File: ./data/Japanese/vocal/Japanese_7.wav - Minimum pitch: 65.40639132514966, Maximum pitch: 583.9467666289698\n",
      "File: ./data/Japanese/vocal/Japanese_8.wav - Minimum pitch: 248.37216905734888, Maximum pitch: 567.3229357134148\n",
      "File: ./data/Japanese/vocal/Japanese_9.wav - Minimum pitch: 65.40639132514966, Maximum pitch: 511.30005826144946\n",
      "File: ./data/Japanese/vocal/Japanese_10.wav - Minimum pitch: 320.24370022528115, Maximum pitch: 670.7786902325353\n",
      "File: ./data/Japanese/노래/Japanese8.wav - Minimum pitch: 65.40639132514966, Maximum pitch: 965.2059821312707\n"
     ]
    }
   ],
   "source": [
    "# 샘플 및 전체 노래에 대한 피치 데이터 추출\n",
    "all_pitches = []\n",
    "for path in file_paths + [full_song_path]:\n",
    "    min_pitch, max_pitch  = extract_pitch(path)\n",
    "    all_pitches.append((min_pitch, max_pitch))\n",
    "    print(f\"File: {path} - Minimum pitch: {min_pitch}, Maximum pitch: {max_pitch}\")"
   ]
  },
  {
   "cell_type": "code",
   "execution_count": 7,
   "metadata": {},
   "outputs": [],
   "source": [
    "# 샘플 데이터와 전체 노래 데이터 분리\n",
    "sample_data = all_pitches[:-1]  # 샘플들의 데이터\n",
    "full_song_data = all_pitches[-1]  # 전체 노래의 데이터"
   ]
  },
  {
   "cell_type": "code",
   "execution_count": 8,
   "metadata": {},
   "outputs": [],
   "source": [
    "# Min-Max 정규화\n",
    "min_pitch = min(p[0] for p in all_pitches if p[0] is not None)  \n",
    "max_pitch = max(p[1] for p in all_pitches if p[1] is not None)\n",
    "normalized_sample_data = [( (p[0]-min_pitch) / (max_pitch-min_pitch), (p[1]-min_pitch) / (max_pitch-min_pitch) ) for p in sample_data]\n",
    "normalized_full_song_data = ((full_song_data[0]-min_pitch) / (max_pitch-min_pitch), (full_song_data[1]-min_pitch) / (max_pitch-min_pitch))"
   ]
  },
  {
   "cell_type": "code",
   "execution_count": 9,
   "metadata": {},
   "outputs": [],
   "source": [
    "from sklearn.model_selection import train_test_split\n",
    "# 데이터를 훈련 세트와 검증 세트로 분할\n",
    "train_features, val_features, train_targets, val_targets = train_test_split(normalized_sample_data, \n",
    "                                                                            [normalized_full_song_data for _ in normalized_sample_data], \n",
    "                                                                            test_size=0.2, \n",
    "                                                                            random_state=42\n",
    ")"
   ]
  },
  {
   "cell_type": "code",
   "execution_count": 10,
   "metadata": {},
   "outputs": [],
   "source": [
    "from torch.utils.data import Dataset, DataLoader\n",
    "\n",
    "class VocalRangeDataset(Dataset):\n",
    "    def __init__(self, features, targets):\n",
    "        self.features = features  # 샘플의 피치 데이터\n",
    "        self.targets = targets    # 전체 노래의 피치 데이터\n",
    "\n",
    "    def __len__(self):\n",
    "        return len(self.features)\n",
    "\n",
    "    def __getitem__(self, idx):\n",
    "        return self.features[idx], self.targets[idx]"
   ]
  },
  {
   "cell_type": "code",
   "execution_count": 11,
   "metadata": {},
   "outputs": [],
   "source": [
    "# 데이터셋 생성\n",
    "train_dataset = VocalRangeDataset(torch.tensor(train_features, dtype=torch.float32), torch.tensor(train_targets, dtype=torch.float32))\n",
    "val_dataset = VocalRangeDataset(torch.tensor(val_features, dtype=torch.float32), torch.tensor(val_targets, dtype=torch.float32))"
   ]
  },
  {
   "cell_type": "code",
   "execution_count": 12,
   "metadata": {},
   "outputs": [],
   "source": [
    "# 데이터로더 생성\n",
    "train_loader = DataLoader(train_dataset, batch_size=4, shuffle=True)\n",
    "val_loader = DataLoader(val_dataset, batch_size=4, shuffle=False)"
   ]
  },
  {
   "cell_type": "code",
   "execution_count": 13,
   "metadata": {},
   "outputs": [],
   "source": [
    "import torch.nn as nn\n",
    "\n",
    "class VocalRangeModel(nn.Module):\n",
    "    def __init__(self):\n",
    "        super(VocalRangeModel, self).__init__()\n",
    "        self.lstm = nn.LSTM(input_size=2, hidden_size=50, num_layers=2, batch_first=True)\n",
    "        self.fc = nn.Linear(50, 2)  # 최종 출력은 최저음과 최고음\n",
    "\n",
    "    def forward(self, x):\n",
    "        # LSTM 레이어\n",
    "        out, (hidden, cell) = self.lstm(x)\n",
    "        # 마지막 시간 단계의 출력을 사용\n",
    "        out = self.fc(out[:, -1, :])\n",
    "        return out"
   ]
  },
  {
   "cell_type": "code",
   "execution_count": 14,
   "metadata": {},
   "outputs": [],
   "source": [
    "# 모델 인스턴스 생성\n",
    "model = VocalRangeModel()"
   ]
  },
  {
   "cell_type": "code",
   "execution_count": 15,
   "metadata": {},
   "outputs": [
    {
     "name": "stdout",
     "output_type": "stream",
     "text": [
      "Epoch   1,    Training Loss = 0.42125759,    Validation Loss = 0.41288865\n",
      "Epoch   2,    Training Loss = 0.40998022,    Validation Loss = 0.40192482\n",
      "Epoch   3,    Training Loss = 0.39893518,    Validation Loss = 0.39112866\n",
      "Epoch   4,    Training Loss = 0.38807084,    Validation Loss = 0.38043654\n",
      "Epoch   5,    Training Loss = 0.37724714,    Validation Loss = 0.36977351\n",
      "Epoch   6,    Training Loss = 0.36646114,    Validation Loss = 0.35906652\n",
      "Epoch   7,    Training Loss = 0.35560516,    Validation Loss = 0.34824914\n",
      "Epoch   8,    Training Loss = 0.34462258,    Validation Loss = 0.33726230\n",
      "Epoch   9,    Training Loss = 0.33342491,    Validation Loss = 0.32605183\n",
      "Epoch  10,    Training Loss = 0.32199001,    Validation Loss = 0.31456518\n",
      "Epoch  11,    Training Loss = 0.31025116,    Validation Loss = 0.30275315\n",
      "Epoch  12,    Training Loss = 0.29812145,    Validation Loss = 0.29057014\n",
      "Epoch  13,    Training Loss = 0.28563394,    Validation Loss = 0.27797085\n",
      "Epoch  14,    Training Loss = 0.27271423,    Validation Loss = 0.26491749\n",
      "Epoch  15,    Training Loss = 0.25928850,    Validation Loss = 0.25138161\n",
      "Epoch  16,    Training Loss = 0.24538092,    Validation Loss = 0.23734275\n",
      "Epoch  17,    Training Loss = 0.23089329,    Validation Loss = 0.22279617\n",
      "Epoch  18,    Training Loss = 0.21589912,    Validation Loss = 0.20774868\n",
      "Epoch  19,    Training Loss = 0.20041274,    Validation Loss = 0.19222689\n",
      "Epoch  20,    Training Loss = 0.18436478,    Validation Loss = 0.17628539\n",
      "Epoch  21,    Training Loss = 0.16797398,    Validation Loss = 0.15999523\n",
      "Epoch  22,    Training Loss = 0.15123786,    Validation Loss = 0.14346419\n",
      "Epoch  23,    Training Loss = 0.13434166,    Validation Loss = 0.12682879\n",
      "Epoch  24,    Training Loss = 0.11747998,    Validation Loss = 0.11025427\n",
      "Epoch  25,    Training Loss = 0.10068030,    Validation Loss = 0.09394236\n",
      "Epoch  26,    Training Loss = 0.08430687,    Validation Loss = 0.07811640\n",
      "Epoch  27,    Training Loss = 0.06859616,    Validation Loss = 0.06302641\n",
      "Epoch  28,    Training Loss = 0.05382565,    Validation Loss = 0.04894762\n",
      "Epoch  29,    Training Loss = 0.04024704,    Validation Loss = 0.03618992\n",
      "Epoch  30,    Training Loss = 0.02836633,    Validation Loss = 0.02505622\n",
      "Epoch  31,    Training Loss = 0.01818868,    Validation Loss = 0.01585900\n",
      "Epoch  32,    Training Loss = 0.01038722,    Validation Loss = 0.00878721\n",
      "Epoch  33,    Training Loss = 0.00493284,    Validation Loss = 0.00392117\n",
      "Epoch  34,    Training Loss = 0.00156434,    Validation Loss = 0.00114921\n",
      "Epoch  35,    Training Loss = 0.00046832,    Validation Loss = 0.00008800\n",
      "Epoch  36,    Training Loss = 0.00086088,    Validation Loss = 0.00017694\n",
      "Epoch  37,    Training Loss = 0.00226953,    Validation Loss = 0.00077885\n",
      "Epoch  38,    Training Loss = 0.00344111,    Validation Loss = 0.00131368\n",
      "Epoch  39,    Training Loss = 0.00432243,    Validation Loss = 0.00149995\n",
      "Epoch  40,    Training Loss = 0.00449256,    Validation Loss = 0.00131233\n",
      "Epoch  41,    Training Loss = 0.00400402,    Validation Loss = 0.00091013\n",
      "Epoch  42,    Training Loss = 0.00317410,    Validation Loss = 0.00046362\n",
      "Epoch  43,    Training Loss = 0.00223761,    Validation Loss = 0.00013528\n",
      "Epoch  44,    Training Loss = 0.00142932,    Validation Loss = 0.00000737\n",
      "Epoch  45,    Training Loss = 0.00091201,    Validation Loss = 0.00009047\n",
      "Epoch  46,    Training Loss = 0.00054419,    Validation Loss = 0.00033531\n",
      "Epoch  47,    Training Loss = 0.00040049,    Validation Loss = 0.00066387\n",
      "Epoch  48,    Training Loss = 0.00039495,    Validation Loss = 0.00099749\n",
      "Epoch  49,    Training Loss = 0.00044244,    Validation Loss = 0.00126730\n",
      "Epoch  50,    Training Loss = 0.00057142,    Validation Loss = 0.00146798\n"
     ]
    }
   ],
   "source": [
    "import torch.optim as optim\n",
    "import matplotlib.pyplot as plt\n",
    "\n",
    "# 손실 함수와 최적화 알고리즘 설정\n",
    "criterion = nn.MSELoss()\n",
    "optimizer = optim.Adam(model.parameters(), lr=0.001)\n",
    "\n",
    "\n",
    "# 손실을 저장할 리스트 초기화\n",
    "train_losses = []\n",
    "val_losses = []\n",
    "\n",
    "# 학습 루프\n",
    "EPOCHS = 50\n",
    "\n",
    "for epoch in range(EPOCHS):  # 에포크 수 설정\n",
    "    model.train()\n",
    "    total_train_loss = 0\n",
    "    num_batches = 0\n",
    "\n",
    "    for data, targets in train_loader:\n",
    "        optimizer.zero_grad()\n",
    "        # 입력 데이터 차원 조정: 배치 크기 x 시퀀스 길이 x 특성 수\n",
    "        outputs = model(data.unsqueeze(1))\n",
    "        loss = criterion(outputs, targets)\n",
    "        loss.backward()\n",
    "        optimizer.step()\n",
    "        total_train_loss += loss.item()\n",
    "        num_batches += 1\n",
    "\n",
    "    avg_train_loss = total_train_loss / num_batches\n",
    "    train_losses.append(avg_train_loss)  # 훈련 손실 저장\n",
    "\n",
    "\n",
    "    model.eval()\n",
    "    val_loss = 0\n",
    "    total_val_loss = 0\n",
    "    num_val_batches = 0\n",
    "\n",
    "    with torch.no_grad():\n",
    "        for data, targets in val_loader:\n",
    "            outputs = model(data.unsqueeze(1))\n",
    "            val_loss += criterion(outputs, targets).item()\n",
    "            total_val_loss += val_loss\n",
    "            num_val_batches += 1\n",
    "\n",
    "        avg_val_loss = total_val_loss / num_val_batches\n",
    "        val_losses.append(avg_val_loss)  # 검증 손실 저장\n",
    "    \n",
    "    print(f'Epoch {epoch+1: >3},    Training Loss = {avg_train_loss:.8f},    Validation Loss = {avg_val_loss:.8f}')"
   ]
  },
  {
   "cell_type": "code",
   "execution_count": 16,
   "metadata": {},
   "outputs": [
    {
     "data": {
      "image/png": "[encoded data removed]",
      "text/plain": [
       "<Figure size 1000x500 with 1 Axes>"
      ]
     },
     "metadata": {},
     "output_type": "display_data"
    }
   ],
   "source": [
    "# 결과 시각화\n",
    "plt.figure(figsize=(10, 5))\n",
    "plt.plot(train_losses, label='Training Loss')\n",
    "plt.plot(val_losses, label='Validation Loss')\n",
    "plt.title('EPOCHS-Loss')\n",
    "plt.xlabel('EPOCHS')\n",
    "plt.ylabel('Loss')\n",
    "plt.legend()\n",
    "plt.grid(True)\n",
    "plt.show()"
   ]
  },
  {
   "cell_type": "code",
   "execution_count": 17,
   "metadata": {},
   "outputs": [],
   "source": [
    "def freq_to_note(freq):\n",
    "    \"\"\" 주파수를 음악 노트로 변환 \"\"\"\n",
    "    if freq is not None and 20 <= freq <= 4000:  # 일반적인 인간의 음성 범위를 고려\n",
    "        midi = librosa.hz_to_midi(freq)\n",
    "        note = librosa.midi_to_note(midi, octave=True)\n",
    "        return note\n",
    "    else:\n",
    "        return 'Out of range'  # 주파수 값이 유효하지 않은 경우"
   ]
  },
  {
   "cell_type": "code",
   "execution_count": 18,
   "metadata": {},
   "outputs": [
    {
     "name": "stdout",
     "output_type": "stream",
     "text": [
      "Final Predicted Vocal Range: C2 to A♯5\n"
     ]
    }
   ],
   "source": [
    "# 역스케일링 함수\n",
    "def unscale_pitch(scaled_pitch, min_pitch, max_pitch):\n",
    "    # min-max 스케일링한 값을 다시 역스케일링\n",
    "    return scaled_pitch * (max_pitch - min_pitch) + min_pitch\n",
    "\n",
    "# 예측 결과를 저장할 변수 초기화\n",
    "final_predicted_min_freqs = []\n",
    "final_predicted_max_freqs = []\n",
    "\n",
    "# 학습 및 검증 루프\n",
    "for epoch in range(EPOCHS):\n",
    "    \n",
    "    # 마지막 에포크에서 예측 결과 저장\n",
    "    if epoch == EPOCHS - 1:\n",
    "        with torch.no_grad():\n",
    "            for data, targets in val_loader:\n",
    "                outputs = model(data.unsqueeze(1))\n",
    "                final_predicted_min_freqs.append(outputs[:, 0].mean().item())  # 최저음의 평균 주파수\n",
    "                final_predicted_max_freqs.append(outputs[:, 1].mean().item())  # 최고음의 평균 주파수\n",
    "\n",
    "# 평균 계산 및 역스케일링\n",
    "final_min_freq = np.mean(final_predicted_min_freqs)\n",
    "final_max_freq = np.mean(final_predicted_max_freqs)\n",
    "\n",
    "# 역스케일링 적용\n",
    "final_min_freq = unscale_pitch(final_min_freq, min_pitch, max_pitch)\n",
    "final_max_freq = unscale_pitch(final_max_freq, min_pitch, max_pitch)\n",
    "\n",
    "# 학습 완료 후 최종 예측된 음역대를 노트로 변환\n",
    "final_min_note = freq_to_note(final_min_freq)\n",
    "final_max_note = freq_to_note(final_max_freq)\n",
    "\n",
    "# 최종 예측된 음역대 출력\n",
    "print(f\"Final Predicted Vocal Range: {final_min_note} to {final_max_note}\")"
   ]
  },
  {
   "cell_type": "code",
   "execution_count": 19,
   "metadata": {},
   "outputs": [],
   "source": [
    "# 음역대 비교 및 확률 계산 함수\n",
    "def calculate_singing_probability(artist_range, song_range):\n",
    "    artist_min_midi, artist_max_midi = librosa.note_to_midi([artist_range[0], artist_range[1]])\n",
    "    song_min_midi, song_max_midi = librosa.note_to_midi([song_range[0], song_range[1]])\n",
    "    overlap_min = max(artist_min_midi, song_min_midi)\n",
    "    overlap_max = min(artist_max_midi, song_max_midi)\n",
    "    overlap = max(0, overlap_max - overlap_min)\n",
    "    song_range_length = song_max_midi - song_min_midi\n",
    "    probability = overlap / song_range_length if song_range_length > 0 else 0\n",
    "    return probability"
   ]
  },
  {
   "cell_type": "code",
   "execution_count": 20,
   "metadata": {},
   "outputs": [],
   "source": [
    "# 다른 가수의 노래 파일 경로\n",
    "other_artist_song_path = \"./data/Japanese/target_song/sigh [vocals].wav\""
   ]
  },
  {
   "cell_type": "code",
   "execution_count": 21,
   "metadata": {},
   "outputs": [],
   "source": [
    "# 다른 가수의 노래에서 음역대 추출\n",
    "song_min_pitch, song_max_pitch = extract_pitch(other_artist_song_path)\n",
    "song_min_note = librosa.hz_to_note(song_min_pitch)\n",
    "song_max_note = librosa.hz_to_note(song_max_pitch)"
   ]
  },
  {
   "cell_type": "code",
   "execution_count": 22,
   "metadata": {},
   "outputs": [],
   "source": [
    "# Japanese의 음역대\n",
    "artist_min_note = 'C2'  \n",
    "artist_max_note = 'A#5'  "
   ]
  },
  {
   "cell_type": "code",
   "execution_count": 23,
   "metadata": {},
   "outputs": [
    {
     "name": "stdout",
     "output_type": "stream",
     "text": [
      "Japanese가 최애곡을 부를 수 있는 확률! : 0.77%\n"
     ]
    }
   ],
   "source": [
    "# 부를 수 있는 확률 계산\n",
    "probability = calculate_singing_probability((artist_min_note, artist_max_note), (song_min_note, song_max_note))\n",
    "print(f\"Japanese가 최애곡을 부를 수 있는 확률! : {probability:.2f}%\")"
   ]
  },
  {
   "cell_type": "code",
   "execution_count": null,
   "metadata": {},
   "outputs": [],
   "source": []
  }
 ],
 "metadata": {
  "kernelspec": {
   "display_name": "Torch_NLP38",
   "language": "python",
   "name": "python3"
  },
  "language_info": {
   "codemirror_mode": {
    "name": "ipython",
    "version": 3
   },
   "file_extension": ".py",
   "mimetype": "text/x-python",
   "name": "python",
   "nbconvert_exporter": "python",
   "pygments_lexer": "ipython3",
   "version": "3.8.19"
  }
 },
 "nbformat": 4,
 "nbformat_minor": 2
}
